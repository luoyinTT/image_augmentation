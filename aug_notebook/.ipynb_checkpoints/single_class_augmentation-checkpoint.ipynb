{
 "cells": [
  {
   "cell_type": "code",
   "execution_count": 12,
   "metadata": {},
   "outputs": [],
   "source": [
    "import os\n",
    "from class_aug import directory_check,get_files,class_num,log_file,if_balanced,class_sort,image_sort,get_aug_list,\\\n",
    "                       augmentation,draw"
   ]
  },
  {
   "cell_type": "code",
   "execution_count": 13,
   "metadata": {},
   "outputs": [],
   "source": [
    "# augmentation class numbers every cycle\n",
    "\n",
    "AUG_NUMBER = 2\n",
    "\n",
    "# the final dataset's distance among every classes\n",
    "\n",
    "PERCENT = 0.01\n",
    "\n",
    "# the path of source annotations and images\n",
    "\n",
    "xml_source_path = 'D:/lab/testpack/augtest/xml/'\n",
    "image_source_path = 'D:/lab/testpack/augtest/jpg/'\n",
    "\n",
    "# the path to save new annotations and images\n",
    "\n",
    "xml_path = 'D:/lab/testpack/augtest/augmentation/xml/'\n",
    "image_path = 'D:/lab/testpack/augtest/augmentation/jpg/'\n",
    "\n",
    "# the log filepath\n",
    "\n",
    "log_path = os.path.join(xml_path, os.path.pardir+\"/\"+\"log.csv\")"
   ]
  },
  {
   "cell_type": "code",
   "execution_count": 14,
   "metadata": {},
   "outputs": [
    {
     "ename": "TypeError",
     "evalue": "class_num() takes 1 positional argument but 2 were given",
     "output_type": "error",
     "traceback": [
      "\u001b[1;31m---------------------------------------------------------------------------\u001b[0m",
      "\u001b[1;31mTypeError\u001b[0m                                 Traceback (most recent call last)",
      "\u001b[1;32m<ipython-input-14-53912a6f369a>\u001b[0m in \u001b[0;36m<module>\u001b[1;34m\u001b[0m\n\u001b[0;32m      1\u001b[0m \u001b[0mfilenames\u001b[0m \u001b[1;33m=\u001b[0m \u001b[0mget_files\u001b[0m\u001b[1;33m(\u001b[0m\u001b[0mxml_path\u001b[0m\u001b[1;33m)\u001b[0m\u001b[1;33m\u001b[0m\u001b[1;33m\u001b[0m\u001b[0m\n\u001b[1;32m----> 2\u001b[1;33m \u001b[0msource_class_names\u001b[0m\u001b[1;33m,\u001b[0m \u001b[0msource_num_objs\u001b[0m\u001b[1;33m,\u001b[0m \u001b[0msource_source_list\u001b[0m \u001b[1;33m=\u001b[0m \u001b[0mclass_num\u001b[0m\u001b[1;33m(\u001b[0m\u001b[0mfilenames\u001b[0m\u001b[1;33m,\u001b[0m\u001b[0mxml_path\u001b[0m\u001b[1;33m)\u001b[0m\u001b[1;33m\u001b[0m\u001b[1;33m\u001b[0m\u001b[0m\n\u001b[0m\u001b[0;32m      3\u001b[0m \u001b[0msource_file_name\u001b[0m \u001b[1;33m=\u001b[0m \u001b[0mlist\u001b[0m\u001b[1;33m(\u001b[0m\u001b[0msource_source_list\u001b[0m\u001b[1;33m.\u001b[0m\u001b[0mkeys\u001b[0m\u001b[1;33m(\u001b[0m\u001b[1;33m)\u001b[0m\u001b[1;33m)\u001b[0m\u001b[1;33m\u001b[0m\u001b[1;33m\u001b[0m\u001b[0m\n\u001b[0;32m      4\u001b[0m \u001b[0mprint\u001b[0m\u001b[1;33m(\u001b[0m\u001b[0msource_num_objs\u001b[0m\u001b[1;33m)\u001b[0m\u001b[1;33m\u001b[0m\u001b[1;33m\u001b[0m\u001b[0m\n",
      "\u001b[1;31mTypeError\u001b[0m: class_num() takes 1 positional argument but 2 were given"
     ]
    }
   ],
   "source": [
    "filenames = get_files(xml_path)\n",
    "source_class_names, source_num_objs, source_source_list = class_num(filenames,xml_path)\n",
    "source_file_name = list(source_source_list.keys())\n",
    "print(source_num_objs)"
   ]
  },
  {
   "cell_type": "code",
   "execution_count": null,
   "metadata": {},
   "outputs": [],
   "source": [
    "def main():\n",
    "    times = 0\n",
    "    a = 0\n",
    "    start_time = datetime.datetime.now()\n",
    "    # get and save the source data of the dataset\n",
    "    filenames = get_files(xml_path)\n",
    "    source_class_names, source_num_objs, source_source_list = class_num(filenames,xml_path)\n",
    "    source_file_name = list(source_source_list.keys())\n",
    "    # if dataset not balanced, continue the cycle\n",
    "    while a == 0:\n",
    "        filenames = get_files(xml_path)\n",
    "        # get quantity of every class\n",
    "        class_names, num_objs, source_list = class_num(filenames,xml_path)\n",
    "        # write file log\n",
    "        log_file(times, source_class_names, num_objs)\n",
    "        # judge if the quantity of every class is balanced\n",
    "        a = if_balanced(num_objs, times, source_list)\n",
    "        if a == 0:\n",
    "            # sort every class\n",
    "            class_list = class_sort(num_objs)\n",
    "            # sort every picture\n",
    "            image_list = image_sort(class_list, source_source_list)\n",
    "            # get the final augmentation list\n",
    "            aug_image_list = get_aug_list(image_list, class_list)\n",
    "            # augmentation\n",
    "            print(\"round:\", times)\n",
    "            augmentation(aug_image_list, times, source_file_name,xml_path)\n",
    "            times = times + 1\n",
    "        else:\n",
    "            print('finish augmentation')\n",
    "            draw(source_num_objs,num_objs,xml_path)\n",
    "            end_time = datetime.datetime.now()\n",
    "            spend_time = (end_time - start_time).seconds\n",
    "            print(\"time spend: \", spend_time/60, \"min\")\n",
    "            with open(log_path, 'a+', newline='') as f:\n",
    "                csv_write = csv.writer(f)\n",
    "                data_row = ['time_spend', spend_time/60, 'min']\n",
    "                csv_write.writerow(data_row)\n",
    "            break"
   ]
  }
 ],
 "metadata": {
  "kernelspec": {
   "display_name": "augmentaion",
   "language": "python",
   "name": "augmentation"
  },
  "language_info": {
   "codemirror_mode": {
    "name": "ipython",
    "version": 3
   },
   "file_extension": ".py",
   "mimetype": "text/x-python",
   "name": "python",
   "nbconvert_exporter": "python",
   "pygments_lexer": "ipython3",
   "version": "3.6.11"
  }
 },
 "nbformat": 4,
 "nbformat_minor": 2
}
